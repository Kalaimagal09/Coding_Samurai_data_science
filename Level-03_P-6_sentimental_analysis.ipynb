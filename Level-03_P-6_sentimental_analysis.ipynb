{
 "cells": [
  {
   "cell_type": "code",
   "execution_count": 1,
   "id": "e0fbbd05-5b88-48a2-9b46-a84342e0f89c",
   "metadata": {},
   "outputs": [
    {
     "name": "stdout",
     "output_type": "stream",
     "text": [
      "---------- First 5 Rows ----------\n",
      "                                          clean_text  category\n",
      "0  when modi promised “minimum government maximum...      -1.0\n",
      "1  talk all the nonsense and continue all the dra...       0.0\n",
      "2  what did just say vote for modi  welcome bjp t...       1.0\n",
      "3  asking his supporters prefix chowkidar their n...       1.0\n",
      "4  answer who among these the most powerful world...       1.0\n",
      "\n",
      "---------- Data Info & Missing Values ----------\n",
      "<class 'pandas.core.frame.DataFrame'>\n",
      "RangeIndex: 162980 entries, 0 to 162979\n",
      "Data columns (total 2 columns):\n",
      " #   Column      Non-Null Count   Dtype  \n",
      "---  ------      --------------   -----  \n",
      " 0   clean_text  162976 non-null  object \n",
      " 1   category    162973 non-null  float64\n",
      "dtypes: float64(1), object(1)\n",
      "memory usage: 2.5+ MB\n",
      "clean_text    4\n",
      "category      7\n",
      "dtype: int64\n",
      "\n",
      "---------- Sentiment Category Distribution ----------\n",
      "category\n",
      " 1.0    72249\n",
      " 0.0    55211\n",
      "-1.0    35509\n",
      "Name: count, dtype: int64\n"
     ]
    },
    {
     "data": {
      "image/png": "[encoded data removed]",
      "text/plain": [
       "<Figure size 800x600 with 1 Axes>"
      ]
     },
     "metadata": {},
     "output_type": "display_data"
    }
   ],
   "source": [
    "import pandas as pd\n",
    "import seaborn as sns\n",
    "import matplotlib.pyplot as plt\n",
    "import re\n",
    "import nltk\n",
    "\n",
    "df = pd.read_csv('Twitter_Data.csv')\n",
    "\n",
    "print(\"---------- First 5 Rows ----------\")\n",
    "print(df.head())\n",
    "\n",
    "print(\"\\n---------- Data Info & Missing Values ----------\")\n",
    "df.info()\n",
    "print(df.isnull().sum())\n",
    "\n",
    "df.dropna(subset=['clean_text'], inplace=True)\n",
    "\n",
    "print(\"\\n---------- Sentiment Category Distribution ----------\")\n",
    "print(df['category'].value_counts())\n",
    "\n",
    "# Visualize the distribution\n",
    "plt.figure(figsize=(8, 6))\n",
    "sns.countplot(x='category', data=df, hue='category', palette='viridis', legend=False)\n",
    "plt.title('Distribution of Sentiment Categories')\n",
    "plt.xlabel('Category (1: Positive, 0: Neutral, -1: Negative)')\n",
    "plt.ylabel('Count')\n",
    "plt.show()"
   ]
  },
  {
   "cell_type": "code",
   "execution_count": 8,
   "id": "cc1f238d-c138-46ef-82ab-f8facb182ec2",
   "metadata": {},
   "outputs": [
    {
     "name": "stdout",
     "output_type": "stream",
     "text": [
      "'processed_text' column created successfully.\n",
      "                                          clean_text  \\\n",
      "0  when modi promised “minimum government maximum...   \n",
      "1  talk all the nonsense and continue all the dra...   \n",
      "2  what did just say vote for modi  welcome bjp t...   \n",
      "3  asking his supporters prefix chowkidar their n...   \n",
      "4  answer who among these the most powerful world...   \n",
      "\n",
      "                                      processed_text  \n",
      "0  modi promised minimum government maximum gover...  \n",
      "1             talk nonsense continue drama vote modi  \n",
      "2  say vote modi welcome bjp told rahul main camp...  \n",
      "3  asking supporters prefix chowkidar names modi ...  \n",
      "4  answer among powerful world leader today trump...  \n"
     ]
    }
   ],
   "source": [
    "import re\n",
    "import nltk\n",
    "from nltk.corpus import stopwords\n",
    "\n",
    "stop_words = set(stopwords.words('english'))\n",
    "\n",
    "def preprocess_text(text):\n",
    "    # Make text lowercase\n",
    "    text = text.lower()\n",
    "    # Remove punctuation\n",
    "    text = re.sub(r'[^\\w\\s]', '', text)\n",
    "    # Remove stopwords\n",
    "    text = \" \".join(word for word in text.split() if word not in stop_words)\n",
    "    return text\n",
    "\n",
    "# THIS IS THE LINE THAT CREATES THE COLUMN\n",
    "df['processed_text'] = df['clean_text'].apply(preprocess_text)\n",
    "\n",
    "print(\"'processed_text' column created successfully.\")\n",
    "print(df[['clean_text', 'processed_text']].head())"
   ]
  },
  {
   "cell_type": "code",
   "execution_count": 11,
   "id": "09838e00-abfe-41af-a77f-09b42673412e",
   "metadata": {},
   "outputs": [],
   "source": [
    "from sklearn.model_selection import train_test_split\n",
    "\n",
    "X = df['processed_text']\n",
    "y = df['category']\n",
    "\n",
    "# Split data into training and testing sets\n",
    "X_train, X_test, y_train, y_test = train_test_split(X, y, test_size=0.2, random_state=42, stratify=y)"
   ]
  },
  {
   "cell_type": "code",
   "execution_count": 12,
   "id": "60c5cf10-878d-4dc5-a4b4-00952ba04a6b",
   "metadata": {},
   "outputs": [
    {
     "name": "stdout",
     "output_type": "stream",
     "text": [
      "Text data has been vectorized successfully.\n",
      "Shape of the training data matrix: (130375, 5000)\n"
     ]
    }
   ],
   "source": [
    "from sklearn.feature_extraction.text import TfidfVectorizer\n",
    "\n",
    "tfidf_vectorizer = TfidfVectorizer(max_features=5000)\n",
    "\n",
    "X_train_tfidf = tfidf_vectorizer.fit_transform(X_train)\n",
    "\n",
    "X_test_tfidf = tfidf_vectorizer.transform(X_test)\n",
    "\n",
    "print(\"Text data has been vectorized successfully.\")\n",
    "print(\"Shape of the training data matrix:\", X_train_tfidf.shape)"
   ]
  },
  {
   "cell_type": "code",
   "execution_count": 13,
   "id": "df3c74eb-cb64-467d-a6d7-8885f0db0422",
   "metadata": {},
   "outputs": [
    {
     "name": "stdout",
     "output_type": "stream",
     "text": [
      "Sentiment analysis model trained successfully.\n"
     ]
    }
   ],
   "source": [
    "from sklearn.naive_bayes import MultinomialNB\n",
    "\n",
    "model = MultinomialNB()\n",
    "model.fit(X_train_tfidf, y_train)\n",
    "\n",
    "print(\"Sentiment analysis model trained successfully.\")"
   ]
  },
  {
   "cell_type": "code",
   "execution_count": 14,
   "id": "a2288f66-c180-422d-b8b6-1447d4d42118",
   "metadata": {},
   "outputs": [
    {
     "name": "stdout",
     "output_type": "stream",
     "text": [
      "\n",
      "Model Accuracy: 0.73\n",
      "\n",
      "Classification Report:\n",
      "               precision    recall  f1-score   support\n",
      "\n",
      "Negative (-1)       0.88      0.44      0.59      7102\n",
      "  Neutral (0)       0.84      0.66      0.74     11042\n",
      " Positive (1)       0.66      0.93      0.77     14450\n",
      "\n",
      "     accuracy                           0.73     32594\n",
      "    macro avg       0.79      0.68      0.70     32594\n",
      " weighted avg       0.77      0.73      0.72     32594\n",
      "\n"
     ]
    }
   ],
   "source": [
    "from sklearn.metrics import accuracy_score, classification_report\n",
    "\n",
    "y_pred = model.predict(X_test_tfidf)\n",
    "\n",
    "accuracy = accuracy_score(y_test, y_pred)\n",
    "print(f\"\\nModel Accuracy: {accuracy:.2f}\")\n",
    "\n",
    "print(\"\\nClassification Report:\")\n",
    "print(classification_report(y_test, y_pred, target_names=['Negative (-1)', 'Neutral (0)', 'Positive (1)']))"
   ]
  },
  {
   "cell_type": "code",
   "execution_count": 15,
   "id": "e4bb1f65-a839-48f6-8bda-af5488f9746a",
   "metadata": {},
   "outputs": [
    {
     "name": "stdout",
     "output_type": "stream",
     "text": [
      "\n",
      "Sentence: 'this movie was absolutely amazing and I really enjoyed it'\n",
      "Predicted Sentiment: Positive\n"
     ]
    }
   ],
   "source": [
    "new_sentence = \"this movie was absolutely amazing and I really enjoyed it\"\n",
    "\n",
    "processed_sentence = preprocess_text(new_sentence)\n",
    "\n",
    "vectorized_sentence = tfidf_vectorizer.transform([processed_sentence])\n",
    "\n",
    "prediction = model.predict(vectorized_sentence)\n",
    "\n",
    "sentiment_map = {-1: 'Negative', 0: 'Neutral', 1: 'Positive'}\n",
    "predicted_sentiment = sentiment_map[prediction[0]]\n",
    "\n",
    "print(f\"\\nSentence: '{new_sentence}'\")\n",
    "print(f\"Predicted Sentiment: {predicted_sentiment}\")"
   ]
  },
  {
   "cell_type": "code",
   "execution_count": null,
   "id": "ff9e5d0e-9c5a-4120-9bf0-72547ad51718",
   "metadata": {},
   "outputs": [],
   "source": []
  }
 ],
 "metadata": {
  "kernelspec": {
   "display_name": "Python 3 (ipykernel)",
   "language": "python",
   "name": "python3"
  },
  "language_info": {
   "codemirror_mode": {
    "name": "ipython",
    "version": 3
   },
   "file_extension": ".py",
   "mimetype": "text/x-python",
   "name": "python",
   "nbconvert_exporter": "python",
   "pygments_lexer": "ipython3",
   "version": "3.13.5"
  }
 },
 "nbformat": 4,
 "nbformat_minor": 5
}
